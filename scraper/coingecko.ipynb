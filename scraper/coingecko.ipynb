{
 "cells": [
  {
   "cell_type": "code",
   "execution_count": 34,
   "metadata": {},
   "outputs": [],
   "source": [
    "import pandas as pd\n",
    "import matplotlib.pyplot as plt\n",
    "import seaborn as sns"
   ]
  },
  {
   "cell_type": "code",
   "execution_count": 42,
   "metadata": {},
   "outputs": [],
   "source": [
    "pd.options.display.float_format = '{:,.2f}'.format  # set other global format\n"
   ]
  },
  {
   "cell_type": "code",
   "execution_count": 2,
   "metadata": {},
   "outputs": [],
   "source": [
    "coingecko_df = pd.read_csv(\"CSV_data/coingecko.csv\")"
   ]
  },
  {
   "cell_type": "code",
   "execution_count": 4,
   "metadata": {},
   "outputs": [
    {
     "name": "stdout",
     "output_type": "stream",
     "text": [
      "<class 'pandas.core.frame.DataFrame'>\n",
      "RangeIndex: 248 entries, 0 to 247\n",
      "Data columns (total 16 columns):\n",
      "check_date             248 non-null object\n",
      "time_of_check          248 non-null object\n",
      "currency_name          248 non-null object\n",
      "coin_gecko_url         248 non-null object\n",
      "currency_website       248 non-null object\n",
      "currency_categories    248 non-null object\n",
      "currency_price         248 non-null object\n",
      "market_cap             248 non-null object\n",
      "trading_volume         248 non-null object\n",
      "market_cap_rank        247 non-null object\n",
      "all_time_high          248 non-null object\n",
      "all_time_low           248 non-null object\n",
      "one_day_low            248 non-null object\n",
      "one_day_high           248 non-null object\n",
      "seven_day_low          248 non-null object\n",
      "seven_day_high         248 non-null object\n",
      "dtypes: object(16)\n",
      "memory usage: 31.1+ KB\n"
     ]
    }
   ],
   "source": [
    "coingecko_df.info()"
   ]
  },
  {
   "cell_type": "code",
   "execution_count": 6,
   "metadata": {},
   "outputs": [
    {
     "data": {
      "text/html": [
       "<div>\n",
       "<style scoped>\n",
       "    .dataframe tbody tr th:only-of-type {\n",
       "        vertical-align: middle;\n",
       "    }\n",
       "\n",
       "    .dataframe tbody tr th {\n",
       "        vertical-align: top;\n",
       "    }\n",
       "\n",
       "    .dataframe thead th {\n",
       "        text-align: right;\n",
       "    }\n",
       "</style>\n",
       "<table border=\"1\" class=\"dataframe\">\n",
       "  <thead>\n",
       "    <tr style=\"text-align: right;\">\n",
       "      <th></th>\n",
       "      <th>check_date</th>\n",
       "      <th>time_of_check</th>\n",
       "      <th>currency_name</th>\n",
       "      <th>coin_gecko_url</th>\n",
       "      <th>currency_website</th>\n",
       "      <th>currency_categories</th>\n",
       "      <th>currency_price</th>\n",
       "      <th>market_cap</th>\n",
       "      <th>trading_volume</th>\n",
       "      <th>market_cap_rank</th>\n",
       "      <th>all_time_high</th>\n",
       "      <th>all_time_low</th>\n",
       "      <th>one_day_low</th>\n",
       "      <th>one_day_high</th>\n",
       "      <th>seven_day_low</th>\n",
       "      <th>seven_day_high</th>\n",
       "    </tr>\n",
       "  </thead>\n",
       "  <tbody>\n",
       "    <tr>\n",
       "      <th>count</th>\n",
       "      <td>248</td>\n",
       "      <td>248</td>\n",
       "      <td>248</td>\n",
       "      <td>248</td>\n",
       "      <td>248</td>\n",
       "      <td>248</td>\n",
       "      <td>248</td>\n",
       "      <td>248</td>\n",
       "      <td>248</td>\n",
       "      <td>247</td>\n",
       "      <td>248</td>\n",
       "      <td>248</td>\n",
       "      <td>248</td>\n",
       "      <td>248</td>\n",
       "      <td>248</td>\n",
       "      <td>248</td>\n",
       "    </tr>\n",
       "    <tr>\n",
       "      <th>unique</th>\n",
       "      <td>3</td>\n",
       "      <td>7</td>\n",
       "      <td>132</td>\n",
       "      <td>132</td>\n",
       "      <td>123</td>\n",
       "      <td>96</td>\n",
       "      <td>227</td>\n",
       "      <td>243</td>\n",
       "      <td>246</td>\n",
       "      <td>131</td>\n",
       "      <td>132</td>\n",
       "      <td>133</td>\n",
       "      <td>244</td>\n",
       "      <td>227</td>\n",
       "      <td>235</td>\n",
       "      <td>144</td>\n",
       "    </tr>\n",
       "    <tr>\n",
       "      <th>top</th>\n",
       "      <td>2022-02-21</td>\n",
       "      <td>18:49:05</td>\n",
       "      <td>currency_name</td>\n",
       "      <td>coin_gecko_url</td>\n",
       "      <td>https://compound.finance/</td>\n",
       "      <td>[]</td>\n",
       "      <td>$1.00</td>\n",
       "      <td>market_cap</td>\n",
       "      <td>trading_volume</td>\n",
       "      <td>market_cap_rank</td>\n",
       "      <td>all_time_high</td>\n",
       "      <td>$1.15</td>\n",
       "      <td>one_day_low</td>\n",
       "      <td>$1.01</td>\n",
       "      <td>seven_day_low</td>\n",
       "      <td>$1.01</td>\n",
       "    </tr>\n",
       "    <tr>\n",
       "      <th>freq</th>\n",
       "      <td>131</td>\n",
       "      <td>124</td>\n",
       "      <td>3</td>\n",
       "      <td>3</td>\n",
       "      <td>7</td>\n",
       "      <td>24</td>\n",
       "      <td>13</td>\n",
       "      <td>3</td>\n",
       "      <td>3</td>\n",
       "      <td>3</td>\n",
       "      <td>3</td>\n",
       "      <td>4</td>\n",
       "      <td>3</td>\n",
       "      <td>14</td>\n",
       "      <td>3</td>\n",
       "      <td>11</td>\n",
       "    </tr>\n",
       "  </tbody>\n",
       "</table>\n",
       "</div>"
      ],
      "text/plain": [
       "        check_date time_of_check  currency_name  coin_gecko_url  \\\n",
       "count          248           248            248             248   \n",
       "unique           3             7            132             132   \n",
       "top     2022-02-21      18:49:05  currency_name  coin_gecko_url   \n",
       "freq           131           124              3               3   \n",
       "\n",
       "                 currency_website currency_categories currency_price  \\\n",
       "count                         248                 248            248   \n",
       "unique                        123                  96            227   \n",
       "top     https://compound.finance/                  []          $1.00   \n",
       "freq                            7                  24             13   \n",
       "\n",
       "        market_cap  trading_volume  market_cap_rank  all_time_high  \\\n",
       "count          248             248              247            248   \n",
       "unique         243             246              131            132   \n",
       "top     market_cap  trading_volume  market_cap_rank  all_time_high   \n",
       "freq             3               3                3              3   \n",
       "\n",
       "       all_time_low  one_day_low one_day_high  seven_day_low seven_day_high  \n",
       "count           248          248          248            248            248  \n",
       "unique          133          244          227            235            144  \n",
       "top           $1.15  one_day_low        $1.01  seven_day_low          $1.01  \n",
       "freq              4            3           14              3             11  "
      ]
     },
     "execution_count": 6,
     "metadata": {},
     "output_type": "execute_result"
    }
   ],
   "source": [
    "coingecko_df.describe()"
   ]
  },
  {
   "cell_type": "code",
   "execution_count": 8,
   "metadata": {},
   "outputs": [
    {
     "data": {
      "text/html": [
       "<div>\n",
       "<style scoped>\n",
       "    .dataframe tbody tr th:only-of-type {\n",
       "        vertical-align: middle;\n",
       "    }\n",
       "\n",
       "    .dataframe tbody tr th {\n",
       "        vertical-align: top;\n",
       "    }\n",
       "\n",
       "    .dataframe thead th {\n",
       "        text-align: right;\n",
       "    }\n",
       "</style>\n",
       "<table border=\"1\" class=\"dataframe\">\n",
       "  <thead>\n",
       "    <tr style=\"text-align: right;\">\n",
       "      <th></th>\n",
       "      <th>check_date</th>\n",
       "      <th>time_of_check</th>\n",
       "      <th>currency_name</th>\n",
       "      <th>coin_gecko_url</th>\n",
       "      <th>currency_website</th>\n",
       "      <th>currency_categories</th>\n",
       "      <th>currency_price</th>\n",
       "      <th>market_cap</th>\n",
       "      <th>trading_volume</th>\n",
       "      <th>market_cap_rank</th>\n",
       "      <th>all_time_high</th>\n",
       "      <th>all_time_low</th>\n",
       "      <th>one_day_low</th>\n",
       "      <th>one_day_high</th>\n",
       "      <th>seven_day_low</th>\n",
       "      <th>seven_day_high</th>\n",
       "    </tr>\n",
       "  </thead>\n",
       "  <tbody>\n",
       "    <tr>\n",
       "      <th>0</th>\n",
       "      <td>2022-02-21</td>\n",
       "      <td>18:49:05</td>\n",
       "      <td>Bitcoin</td>\n",
       "      <td>https://www.coingecko.com/en/coins/bitcoin</td>\n",
       "      <td>https://www.bitcoin.org</td>\n",
       "      <td>['Cryptocurrency']</td>\n",
       "      <td>$37,793.41</td>\n",
       "      <td>$716,796,506,340</td>\n",
       "      <td>$21,202,880,082</td>\n",
       "      <td>#1</td>\n",
       "      <td>$69,044.77</td>\n",
       "      <td>$67.81</td>\n",
       "      <td>$37,500.99</td>\n",
       "      <td>$39,468.24</td>\n",
       "      <td>$37,557.60</td>\n",
       "      <td>$44,574.32</td>\n",
       "    </tr>\n",
       "    <tr>\n",
       "      <th>1</th>\n",
       "      <td>2022-02-21</td>\n",
       "      <td>18:49:05</td>\n",
       "      <td>Ethereum</td>\n",
       "      <td>https://www.coingecko.com/en/coins/ethereum</td>\n",
       "      <td>https://www.ethereum.org/</td>\n",
       "      <td>['Smart Contract Platform']</td>\n",
       "      <td>$2,625.32</td>\n",
       "      <td>$314,217,059,893</td>\n",
       "      <td>$16,222,374,964</td>\n",
       "      <td>#2</td>\n",
       "      <td>$4,878.26</td>\n",
       "      <td>$0.432979</td>\n",
       "      <td>$2,593.58</td>\n",
       "      <td>$2,754.63</td>\n",
       "      <td>$2,599.04</td>\n",
       "      <td>$3,179.30</td>\n",
       "    </tr>\n",
       "    <tr>\n",
       "      <th>2</th>\n",
       "      <td>2022-02-21</td>\n",
       "      <td>18:49:05</td>\n",
       "      <td>Tether</td>\n",
       "      <td>https://www.coingecko.com/en/coins/tether</td>\n",
       "      <td>https://tether.to/</td>\n",
       "      <td>['Moonbeam Ecosystem', 'Moonriver Ecosystem', ...</td>\n",
       "      <td>$1.00</td>\n",
       "      <td>$79,275,573,728</td>\n",
       "      <td>$44,304,986,960</td>\n",
       "      <td>#3</td>\n",
       "      <td>$1.32</td>\n",
       "      <td>$0.572521</td>\n",
       "      <td>$0.995785</td>\n",
       "      <td>$1.01</td>\n",
       "      <td>$0.999551</td>\n",
       "      <td>$1.01</td>\n",
       "    </tr>\n",
       "    <tr>\n",
       "      <th>3</th>\n",
       "      <td>2022-02-21</td>\n",
       "      <td>18:49:05</td>\n",
       "      <td>BNB</td>\n",
       "      <td>https://www.coingecko.com/en/coins/bnb</td>\n",
       "      <td>https://www.binance.com/</td>\n",
       "      <td>['Moonriver Ecosystem', 'Polygon Ecosystem', '...</td>\n",
       "      <td>$369.75</td>\n",
       "      <td>$62,063,374,889</td>\n",
       "      <td>$1,372,104,433</td>\n",
       "      <td>#4</td>\n",
       "      <td>$686.31</td>\n",
       "      <td>$0.039817697188</td>\n",
       "      <td>$367.36</td>\n",
       "      <td>$393.88</td>\n",
       "      <td>$368.02</td>\n",
       "      <td>$432.82</td>\n",
       "    </tr>\n",
       "    <tr>\n",
       "      <th>4</th>\n",
       "      <td>2022-02-21</td>\n",
       "      <td>18:49:05</td>\n",
       "      <td>USD Coin</td>\n",
       "      <td>https://www.coingecko.com/en/coins/usd-coin</td>\n",
       "      <td>https://www.circle.com/en/usdc</td>\n",
       "      <td>['Moonbeam Ecosystem', 'Moonriver Ecosystem', ...</td>\n",
       "      <td>$1.00</td>\n",
       "      <td>$52,618,583,268</td>\n",
       "      <td>$3,675,513,662</td>\n",
       "      <td>#5</td>\n",
       "      <td>$1.17</td>\n",
       "      <td>$0.891848</td>\n",
       "      <td>$0.995458</td>\n",
       "      <td>$1.01</td>\n",
       "      <td>$0.998076</td>\n",
       "      <td>$1.00</td>\n",
       "    </tr>\n",
       "  </tbody>\n",
       "</table>\n",
       "</div>"
      ],
      "text/plain": [
       "   check_date time_of_check currency_name  \\\n",
       "0  2022-02-21      18:49:05       Bitcoin   \n",
       "1  2022-02-21      18:49:05      Ethereum   \n",
       "2  2022-02-21      18:49:05        Tether   \n",
       "3  2022-02-21      18:49:05           BNB   \n",
       "4  2022-02-21      18:49:05      USD Coin   \n",
       "\n",
       "                                coin_gecko_url  \\\n",
       "0   https://www.coingecko.com/en/coins/bitcoin   \n",
       "1  https://www.coingecko.com/en/coins/ethereum   \n",
       "2    https://www.coingecko.com/en/coins/tether   \n",
       "3       https://www.coingecko.com/en/coins/bnb   \n",
       "4  https://www.coingecko.com/en/coins/usd-coin   \n",
       "\n",
       "                 currency_website  \\\n",
       "0         https://www.bitcoin.org   \n",
       "1       https://www.ethereum.org/   \n",
       "2              https://tether.to/   \n",
       "3        https://www.binance.com/   \n",
       "4  https://www.circle.com/en/usdc   \n",
       "\n",
       "                                 currency_categories currency_price  \\\n",
       "0                                 ['Cryptocurrency']     $37,793.41   \n",
       "1                        ['Smart Contract Platform']      $2,625.32   \n",
       "2  ['Moonbeam Ecosystem', 'Moonriver Ecosystem', ...          $1.00   \n",
       "3  ['Moonriver Ecosystem', 'Polygon Ecosystem', '...        $369.75   \n",
       "4  ['Moonbeam Ecosystem', 'Moonriver Ecosystem', ...          $1.00   \n",
       "\n",
       "         market_cap   trading_volume market_cap_rank all_time_high  \\\n",
       "0  $716,796,506,340  $21,202,880,082              #1    $69,044.77   \n",
       "1  $314,217,059,893  $16,222,374,964              #2     $4,878.26   \n",
       "2   $79,275,573,728  $44,304,986,960              #3         $1.32   \n",
       "3   $62,063,374,889   $1,372,104,433              #4       $686.31   \n",
       "4   $52,618,583,268   $3,675,513,662              #5         $1.17   \n",
       "\n",
       "      all_time_low one_day_low one_day_high seven_day_low seven_day_high  \n",
       "0           $67.81  $37,500.99   $39,468.24    $37,557.60     $44,574.32  \n",
       "1        $0.432979   $2,593.58    $2,754.63     $2,599.04      $3,179.30  \n",
       "2        $0.572521   $0.995785        $1.01     $0.999551          $1.01  \n",
       "3  $0.039817697188     $367.36      $393.88       $368.02        $432.82  \n",
       "4        $0.891848   $0.995458        $1.01     $0.998076          $1.00  "
      ]
     },
     "execution_count": 8,
     "metadata": {},
     "output_type": "execute_result"
    }
   ],
   "source": [
    "coingecko_df.head()"
   ]
  },
  {
   "cell_type": "code",
   "execution_count": 12,
   "metadata": {},
   "outputs": [
    {
     "data": {
      "text/plain": [
       "currency_name    3\n",
       "THORChain        2\n",
       "Zcash            2\n",
       "NEM              2\n",
       "Name: currency_name, dtype: int64"
      ]
     },
     "execution_count": 12,
     "metadata": {},
     "output_type": "execute_result"
    }
   ],
   "source": [
    "coingecko_df[\"currency_name\"].value_counts()[:4]"
   ]
  },
  {
   "cell_type": "code",
   "execution_count": 16,
   "metadata": {},
   "outputs": [
    {
     "data": {
      "text/html": [
       "<div>\n",
       "<style scoped>\n",
       "    .dataframe tbody tr th:only-of-type {\n",
       "        vertical-align: middle;\n",
       "    }\n",
       "\n",
       "    .dataframe tbody tr th {\n",
       "        vertical-align: top;\n",
       "    }\n",
       "\n",
       "    .dataframe thead th {\n",
       "        text-align: right;\n",
       "    }\n",
       "</style>\n",
       "<table border=\"1\" class=\"dataframe\">\n",
       "  <thead>\n",
       "    <tr style=\"text-align: right;\">\n",
       "      <th></th>\n",
       "      <th>check_date</th>\n",
       "      <th>time_of_check</th>\n",
       "      <th>currency_name</th>\n",
       "      <th>coin_gecko_url</th>\n",
       "      <th>currency_website</th>\n",
       "      <th>currency_categories</th>\n",
       "      <th>currency_price</th>\n",
       "      <th>market_cap</th>\n",
       "      <th>trading_volume</th>\n",
       "      <th>market_cap_rank</th>\n",
       "      <th>all_time_high</th>\n",
       "      <th>all_time_low</th>\n",
       "      <th>one_day_low</th>\n",
       "      <th>one_day_high</th>\n",
       "      <th>seven_day_low</th>\n",
       "      <th>seven_day_high</th>\n",
       "    </tr>\n",
       "  </thead>\n",
       "  <tbody>\n",
       "    <tr>\n",
       "      <th>131</th>\n",
       "      <td>2022-02-21</td>\n",
       "      <td>18:56:25</td>\n",
       "      <td>Sombra</td>\n",
       "      <td>https://www.coingecko.com/en/coins/sombra-network</td>\n",
       "      <td>https://www.sombra.app/</td>\n",
       "      <td>[]</td>\n",
       "      <td>$0.053387329925</td>\n",
       "      <td>?</td>\n",
       "      <td>$13,667.87</td>\n",
       "      <td>NaN</td>\n",
       "      <td>$0.207805</td>\n",
       "      <td>$0.009673235379</td>\n",
       "      <td>$0.053185241498</td>\n",
       "      <td>$0.057263906378</td>\n",
       "      <td>$0.054511323289</td>\n",
       "      <td>$0.081401181469</td>\n",
       "    </tr>\n",
       "  </tbody>\n",
       "</table>\n",
       "</div>"
      ],
      "text/plain": [
       "     check_date time_of_check currency_name  \\\n",
       "131  2022-02-21      18:56:25        Sombra   \n",
       "\n",
       "                                        coin_gecko_url  \\\n",
       "131  https://www.coingecko.com/en/coins/sombra-network   \n",
       "\n",
       "            currency_website currency_categories   currency_price market_cap  \\\n",
       "131  https://www.sombra.app/                  []  $0.053387329925          ?   \n",
       "\n",
       "    trading_volume market_cap_rank all_time_high     all_time_low  \\\n",
       "131     $13,667.87             NaN     $0.207805  $0.009673235379   \n",
       "\n",
       "         one_day_low     one_day_high    seven_day_low   seven_day_high  \n",
       "131  $0.053185241498  $0.057263906378  $0.054511323289  $0.081401181469  "
      ]
     },
     "execution_count": 16,
     "metadata": {},
     "output_type": "execute_result"
    }
   ],
   "source": [
    "coingecko_df[coingecko_df[\"market_cap_rank\"].isnull()]"
   ]
  },
  {
   "cell_type": "markdown",
   "metadata": {},
   "source": [
    "Marketcap and Marketcap rank were not retrieved for Sombra because it was not avaialable on platform during the run"
   ]
  },
  {
   "cell_type": "code",
   "execution_count": 18,
   "metadata": {},
   "outputs": [
    {
     "data": {
      "text/html": [
       "<div>\n",
       "<style scoped>\n",
       "    .dataframe tbody tr th:only-of-type {\n",
       "        vertical-align: middle;\n",
       "    }\n",
       "\n",
       "    .dataframe tbody tr th {\n",
       "        vertical-align: top;\n",
       "    }\n",
       "\n",
       "    .dataframe thead th {\n",
       "        text-align: right;\n",
       "    }\n",
       "</style>\n",
       "<table border=\"1\" class=\"dataframe\">\n",
       "  <thead>\n",
       "    <tr style=\"text-align: right;\">\n",
       "      <th></th>\n",
       "      <th>check_date</th>\n",
       "      <th>time_of_check</th>\n",
       "      <th>currency_name</th>\n",
       "      <th>coin_gecko_url</th>\n",
       "      <th>currency_website</th>\n",
       "      <th>currency_categories</th>\n",
       "      <th>currency_price</th>\n",
       "      <th>market_cap</th>\n",
       "      <th>trading_volume</th>\n",
       "      <th>market_cap_rank</th>\n",
       "      <th>all_time_high</th>\n",
       "      <th>all_time_low</th>\n",
       "      <th>one_day_low</th>\n",
       "      <th>one_day_high</th>\n",
       "      <th>seven_day_low</th>\n",
       "      <th>seven_day_high</th>\n",
       "    </tr>\n",
       "  </thead>\n",
       "  <tbody>\n",
       "    <tr>\n",
       "      <th>130</th>\n",
       "      <td>check_date</td>\n",
       "      <td>time_of_check</td>\n",
       "      <td>currency_name</td>\n",
       "      <td>coin_gecko_url</td>\n",
       "      <td>currency_website</td>\n",
       "      <td>currency_categories</td>\n",
       "      <td>currency_price</td>\n",
       "      <td>market_cap</td>\n",
       "      <td>trading_volume</td>\n",
       "      <td>market_cap_rank</td>\n",
       "      <td>all_time_high</td>\n",
       "      <td>all_time_low</td>\n",
       "      <td>one_day_low</td>\n",
       "      <td>one_day_high</td>\n",
       "      <td>seven_day_low</td>\n",
       "      <td>seven_day_high</td>\n",
       "    </tr>\n",
       "    <tr>\n",
       "      <th>132</th>\n",
       "      <td>check_date</td>\n",
       "      <td>time_of_check</td>\n",
       "      <td>currency_name</td>\n",
       "      <td>coin_gecko_url</td>\n",
       "      <td>currency_website</td>\n",
       "      <td>currency_categories</td>\n",
       "      <td>currency_price</td>\n",
       "      <td>market_cap</td>\n",
       "      <td>trading_volume</td>\n",
       "      <td>market_cap_rank</td>\n",
       "      <td>all_time_high</td>\n",
       "      <td>all_time_low</td>\n",
       "      <td>one_day_low</td>\n",
       "      <td>one_day_high</td>\n",
       "      <td>seven_day_low</td>\n",
       "      <td>seven_day_high</td>\n",
       "    </tr>\n",
       "    <tr>\n",
       "      <th>133</th>\n",
       "      <td>check_date</td>\n",
       "      <td>time_of_check</td>\n",
       "      <td>currency_name</td>\n",
       "      <td>coin_gecko_url</td>\n",
       "      <td>currency_website</td>\n",
       "      <td>currency_categories</td>\n",
       "      <td>currency_price</td>\n",
       "      <td>market_cap</td>\n",
       "      <td>trading_volume</td>\n",
       "      <td>market_cap_rank</td>\n",
       "      <td>all_time_high</td>\n",
       "      <td>all_time_low</td>\n",
       "      <td>one_day_low</td>\n",
       "      <td>one_day_high</td>\n",
       "      <td>seven_day_low</td>\n",
       "      <td>seven_day_high</td>\n",
       "    </tr>\n",
       "  </tbody>\n",
       "</table>\n",
       "</div>"
      ],
      "text/plain": [
       "     check_date  time_of_check  currency_name  coin_gecko_url  \\\n",
       "130  check_date  time_of_check  currency_name  coin_gecko_url   \n",
       "132  check_date  time_of_check  currency_name  coin_gecko_url   \n",
       "133  check_date  time_of_check  currency_name  coin_gecko_url   \n",
       "\n",
       "     currency_website  currency_categories  currency_price  market_cap  \\\n",
       "130  currency_website  currency_categories  currency_price  market_cap   \n",
       "132  currency_website  currency_categories  currency_price  market_cap   \n",
       "133  currency_website  currency_categories  currency_price  market_cap   \n",
       "\n",
       "     trading_volume  market_cap_rank  all_time_high  all_time_low  \\\n",
       "130  trading_volume  market_cap_rank  all_time_high  all_time_low   \n",
       "132  trading_volume  market_cap_rank  all_time_high  all_time_low   \n",
       "133  trading_volume  market_cap_rank  all_time_high  all_time_low   \n",
       "\n",
       "     one_day_low  one_day_high  seven_day_low  seven_day_high  \n",
       "130  one_day_low  one_day_high  seven_day_low  seven_day_high  \n",
       "132  one_day_low  one_day_high  seven_day_low  seven_day_high  \n",
       "133  one_day_low  one_day_high  seven_day_low  seven_day_high  "
      ]
     },
     "execution_count": 18,
     "metadata": {},
     "output_type": "execute_result"
    }
   ],
   "source": [
    "coingecko_df[coingecko_df[\"currency_name\"] == \"currency_name\"]"
   ]
  },
  {
   "cell_type": "markdown",
   "metadata": {},
   "source": [
    "Headers were repeated during the dumps into the csv for different runs"
   ]
  },
  {
   "cell_type": "code",
   "execution_count": 43,
   "metadata": {},
   "outputs": [],
   "source": [
    "clean_cdf = coingecko_df[(coingecko_df[\"market_cap\"]!=\"market_cap\") & (coingecko_df[\"market_cap\"]!=\"?\")]"
   ]
  },
  {
   "cell_type": "code",
   "execution_count": 44,
   "metadata": {},
   "outputs": [
    {
     "name": "stderr",
     "output_type": "stream",
     "text": [
      "/Users/oluwasogo/anaconda3/lib/python3.7/site-packages/ipykernel_launcher.py:1: SettingWithCopyWarning: \n",
      "A value is trying to be set on a copy of a slice from a DataFrame.\n",
      "Try using .loc[row_indexer,col_indexer] = value instead\n",
      "\n",
      "See the caveats in the documentation: http://pandas.pydata.org/pandas-docs/stable/indexing.html#indexing-view-versus-copy\n",
      "  \"\"\"Entry point for launching an IPython kernel.\n"
     ]
    }
   ],
   "source": [
    "clean_cdf[\"market_cap\"] = clean_cdf[\"market_cap\"].str.replace(\"$\", \"\").str.replace(\",\", \"\").astype(float)"
   ]
  },
  {
   "cell_type": "code",
   "execution_count": 69,
   "metadata": {},
   "outputs": [
    {
     "name": "stderr",
     "output_type": "stream",
     "text": [
      "/Users/oluwasogo/anaconda3/lib/python3.7/site-packages/ipykernel_launcher.py:1: SettingWithCopyWarning: \n",
      "A value is trying to be set on a copy of a slice from a DataFrame.\n",
      "Try using .loc[row_indexer,col_indexer] = value instead\n",
      "\n",
      "See the caveats in the documentation: http://pandas.pydata.org/pandas-docs/stable/indexing.html#indexing-view-versus-copy\n",
      "  \"\"\"Entry point for launching an IPython kernel.\n"
     ]
    }
   ],
   "source": [
    "clean_cdf[\"currency_price\"] = clean_cdf[\"currency_price\"].str.replace(\"$\", \"\").str.replace(\",\", \"\").astype(float)"
   ]
  },
  {
   "cell_type": "code",
   "execution_count": 97,
   "metadata": {},
   "outputs": [
    {
     "name": "stderr",
     "output_type": "stream",
     "text": [
      "/Users/oluwasogo/anaconda3/lib/python3.7/site-packages/ipykernel_launcher.py:1: SettingWithCopyWarning: \n",
      "A value is trying to be set on a copy of a slice from a DataFrame.\n",
      "Try using .loc[row_indexer,col_indexer] = value instead\n",
      "\n",
      "See the caveats in the documentation: http://pandas.pydata.org/pandas-docs/stable/indexing.html#indexing-view-versus-copy\n",
      "  \"\"\"Entry point for launching an IPython kernel.\n"
     ]
    }
   ],
   "source": [
    "clean_cdf[\"trading_volume\"] = clean_cdf[\"trading_volume\"].str.replace(\"$\", \"\").str.replace(\",\", \"\").astype(float)"
   ]
  },
  {
   "cell_type": "markdown",
   "metadata": {},
   "source": [
    "## Basic Analysis on the the scraped data"
   ]
  },
  {
   "cell_type": "code",
   "execution_count": 92,
   "metadata": {},
   "outputs": [],
   "source": [
    "def plot_market_cap(df):\n",
    "\n",
    "\n",
    "    plt.figure(figsize=(12, 8))\n",
    "    sns.set(style=\"darkgrid\")\n",
    "    plt.xticks(rotation=90)\n",
    "    plt.title(\"Top marketcap for Scraped coins\")\n",
    "    sns.barplot('currency_name', 'market_cap', data=df.sort_values(by='market_cap', ascending=False)[:23])\n",
    "\n",
    "    plt.show()"
   ]
  },
  {
   "cell_type": "code",
   "execution_count": 93,
   "metadata": {},
   "outputs": [
    {
     "data": {
      "image/png": "[encoded data removed]",
      "text/plain": [
       "<Figure size 864x576 with 1 Axes>"
      ]
     },
     "metadata": {},
     "output_type": "display_data"
    }
   ],
   "source": [
    "plot_market_cap(clean_cdf)"
   ]
  },
  {
   "cell_type": "code",
   "execution_count": 62,
   "metadata": {},
   "outputs": [
    {
     "data": {
      "text/plain": [
       "Index(['check_date', 'time_of_check', 'currency_name', 'coin_gecko_url',\n",
       "       'currency_website', 'currency_categories', 'currency_price',\n",
       "       'market_cap', 'trading_volume', 'market_cap_rank', 'all_time_high',\n",
       "       'all_time_low', 'one_day_low', 'one_day_high', 'seven_day_low',\n",
       "       'seven_day_high'],\n",
       "      dtype='object')"
      ]
     },
     "execution_count": 62,
     "metadata": {},
     "output_type": "execute_result"
    }
   ],
   "source": [
    "clean_cdf.columns"
   ]
  },
  {
   "cell_type": "code",
   "execution_count": 113,
   "metadata": {},
   "outputs": [],
   "source": [
    "def plot_market_price(df):\n",
    "\n",
    "\n",
    "    plt.figure(figsize=(12, 8))\n",
    "    sns.set(style=\"whitegrid\")\n",
    "    plt.xticks(rotation=90)\n",
    "    plt.title(\"Top scraped coins by Price\")\n",
    "\n",
    "    sns.barplot('currency_name', 'currency_price', data=df.sort_values(by='currency_price', ascending=False)[:28])\n",
    "    \n",
    "    plt.show()"
   ]
  },
  {
   "cell_type": "code",
   "execution_count": 114,
   "metadata": {},
   "outputs": [
    {
     "data": {
      "image/png": "[encoded data removed]",
      "text/plain": [
       "<Figure size 864x576 with 1 Axes>"
      ]
     },
     "metadata": {},
     "output_type": "display_data"
    }
   ],
   "source": [
    " plot_market_price(clean_cdf)"
   ]
  },
  {
   "cell_type": "code",
   "execution_count": 111,
   "metadata": {},
   "outputs": [],
   "source": [
    "def plot_trading_volume(df):\n",
    "    \n",
    "    sns.set(style=\"whitegrid\", palette=\"twilight_shifted\")\n",
    "\n",
    "\n",
    "    plt.figure(figsize=(12, 8))\n",
    "#     sns.set(style=\"whitegrid\")\n",
    "    plt.xticks(rotation=90)\n",
    "    plt.title(\"Top scraped coins by Trading Volume\")\n",
    "\n",
    "\n",
    "    sns.barplot('currency_name', 'trading_volume', data=df.sort_values(by='trading_volume', ascending=False)[:28])\n",
    "    \n",
    "    plt.show()"
   ]
  },
  {
   "cell_type": "code",
   "execution_count": 112,
   "metadata": {},
   "outputs": [
    {
     "data": {
      "image/png": "[encoded data removed]",
      "text/plain": [
       "<Figure size 864x576 with 1 Axes>"
      ]
     },
     "metadata": {},
     "output_type": "display_data"
    }
   ],
   "source": [
    "plot_trading_volume(clean_cdf)"
   ]
  },
  {
   "cell_type": "code",
   "execution_count": null,
   "metadata": {},
   "outputs": [],
   "source": []
  }
 ],
 "metadata": {
  "kernelspec": {
   "display_name": "Python 3",
   "language": "python",
   "name": "python3"
  },
  "language_info": {
   "codemirror_mode": {
    "name": "ipython",
    "version": 3
   },
   "file_extension": ".py",
   "mimetype": "text/x-python",
   "name": "python",
   "nbconvert_exporter": "python",
   "pygments_lexer": "ipython3",
   "version": "3.7.3"
  }
 },
 "nbformat": 4,
 "nbformat_minor": 4
}
