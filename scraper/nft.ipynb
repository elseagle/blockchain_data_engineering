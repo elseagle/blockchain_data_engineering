{
 "cells": [
  {
   "cell_type": "code",
   "execution_count": 1,
   "metadata": {},
   "outputs": [],
   "source": [
    "import pandas as pd\n",
    "import matplotlib.pyplot as plt\n",
    "import seaborn as sns"
   ]
  },
  {
   "cell_type": "code",
   "execution_count": 2,
   "metadata": {},
   "outputs": [],
   "source": [
    "nfts = pd.read_csv(\"CSV_data/upcoming_nft_sales.csv\")"
   ]
  },
  {
   "cell_type": "code",
   "execution_count": 3,
   "metadata": {},
   "outputs": [
    {
     "name": "stdout",
     "output_type": "stream",
     "text": [
      "<class 'pandas.core.frame.DataFrame'>\n",
      "RangeIndex: 110 entries, 0 to 109\n",
      "Data columns (total 13 columns):\n",
      "rarity_id            110 non-null object\n",
      "project              110 non-null object\n",
      "short_description    107 non-null object\n",
      "max_items            110 non-null int64\n",
      "price                105 non-null object\n",
      "price_text           29 non-null object\n",
      "currency             110 non-null object\n",
      "sale_date            110 non-null object\n",
      "pre_sale_date        29 non-null object\n",
      "website              109 non-null object\n",
      "discord_link         110 non-null object\n",
      "twitter_id           110 non-null object\n",
      "listed_date          110 non-null object\n",
      "dtypes: int64(1), object(12)\n",
      "memory usage: 11.2+ KB\n"
     ]
    }
   ],
   "source": [
    "nfts.info()"
   ]
  },
  {
   "cell_type": "code",
   "execution_count": 4,
   "metadata": {},
   "outputs": [
    {
     "data": {
      "text/html": [
       "<div>\n",
       "<style scoped>\n",
       "    .dataframe tbody tr th:only-of-type {\n",
       "        vertical-align: middle;\n",
       "    }\n",
       "\n",
       "    .dataframe tbody tr th {\n",
       "        vertical-align: top;\n",
       "    }\n",
       "\n",
       "    .dataframe thead th {\n",
       "        text-align: right;\n",
       "    }\n",
       "</style>\n",
       "<table border=\"1\" class=\"dataframe\">\n",
       "  <thead>\n",
       "    <tr style=\"text-align: right;\">\n",
       "      <th></th>\n",
       "      <th>rarity_id</th>\n",
       "      <th>project</th>\n",
       "      <th>short_description</th>\n",
       "      <th>max_items</th>\n",
       "      <th>price</th>\n",
       "      <th>price_text</th>\n",
       "      <th>currency</th>\n",
       "      <th>sale_date</th>\n",
       "      <th>pre_sale_date</th>\n",
       "      <th>website</th>\n",
       "      <th>discord_link</th>\n",
       "      <th>twitter_id</th>\n",
       "      <th>listed_date</th>\n",
       "    </tr>\n",
       "  </thead>\n",
       "  <tbody>\n",
       "    <tr>\n",
       "      <th>0</th>\n",
       "      <td>55unity</td>\n",
       "      <td>55Unity</td>\n",
       "      <td>Role playing game NFTs</td>\n",
       "      <td>4999</td>\n",
       "      <td>0.115</td>\n",
       "      <td>NaN</td>\n",
       "      <td>ETH</td>\n",
       "      <td>2022-02-25T15:00:00.000Z</td>\n",
       "      <td>NaN</td>\n",
       "      <td>https://55unity.com</td>\n",
       "      <td>https://discord.gg/55unity</td>\n",
       "      <td>55unity</td>\n",
       "      <td>2022-02-21T00:00:00.000Z</td>\n",
       "    </tr>\n",
       "    <tr>\n",
       "      <th>1</th>\n",
       "      <td>ailoverse</td>\n",
       "      <td>Ailoverse</td>\n",
       "      <td>Cat themed NFTs</td>\n",
       "      <td>10000</td>\n",
       "      <td>TBA</td>\n",
       "      <td>TBA</td>\n",
       "      <td>ETH</td>\n",
       "      <td>To be Announced</td>\n",
       "      <td>NaN</td>\n",
       "      <td>www.ailoverse.com</td>\n",
       "      <td>https://discord.com/invite/ailoverse</td>\n",
       "      <td>ailoverse</td>\n",
       "      <td>2022-02-15T00:00:00.000Z</td>\n",
       "    </tr>\n",
       "    <tr>\n",
       "      <th>2</th>\n",
       "      <td>alienscumfleet</td>\n",
       "      <td>Alien Scum Fleet</td>\n",
       "      <td>Aliens themed NFTs</td>\n",
       "      <td>6969</td>\n",
       "      <td>0.0169</td>\n",
       "      <td>NaN</td>\n",
       "      <td>ETH</td>\n",
       "      <td>2022-02-27T20:00:00.000Z</td>\n",
       "      <td>NaN</td>\n",
       "      <td>https://alienscumfleet.io/</td>\n",
       "      <td>https://discord.gg/RDcq8EN5Wv</td>\n",
       "      <td>alienscumfleet</td>\n",
       "      <td>2022-02-18T00:00:00.000Z</td>\n",
       "    </tr>\n",
       "    <tr>\n",
       "      <th>3</th>\n",
       "      <td>angelsanddevils</td>\n",
       "      <td>Angels and Devils by Celestial Studios</td>\n",
       "      <td>Angel and devil themed NFTs</td>\n",
       "      <td>10000</td>\n",
       "      <td>0.04 Presales/0.05 Public Sales</td>\n",
       "      <td>Presale: 0.04 ETH\\r\\nPublic Sale: 0.05 ETH</td>\n",
       "      <td>ETH</td>\n",
       "      <td>2022-02-26T22:00:00.000Z</td>\n",
       "      <td>2022-02-25T22:00:00.000Z</td>\n",
       "      <td>https://angelsdevilsnft.com/</td>\n",
       "      <td>discord.gg/angelsdevilsnft</td>\n",
       "      <td>AngelsDevilsNFT</td>\n",
       "      <td>2022-02-22T00:00:00.000Z</td>\n",
       "    </tr>\n",
       "    <tr>\n",
       "      <th>4</th>\n",
       "      <td>angrybearclub</td>\n",
       "      <td>Angry Bear Club</td>\n",
       "      <td>Angry bears themed NFTs</td>\n",
       "      <td>4444</td>\n",
       "      <td>NaN</td>\n",
       "      <td>0.7 SOL \\r\\n0.02285231 ETH</td>\n",
       "      <td>ETH</td>\n",
       "      <td>2022-03-05T21:00:00.000Z</td>\n",
       "      <td>NaN</td>\n",
       "      <td>angrybearclub.com</td>\n",
       "      <td>https://discord.gg/xVhcpj6csg</td>\n",
       "      <td>AngryBearNFT</td>\n",
       "      <td>2022-02-22T00:00:00.000Z</td>\n",
       "    </tr>\n",
       "  </tbody>\n",
       "</table>\n",
       "</div>"
      ],
      "text/plain": [
       "         rarity_id                                 project  \\\n",
       "0          55unity                                 55Unity   \n",
       "1        ailoverse                               Ailoverse   \n",
       "2   alienscumfleet                        Alien Scum Fleet   \n",
       "3  angelsanddevils  Angels and Devils by Celestial Studios   \n",
       "4    angrybearclub                         Angry Bear Club   \n",
       "\n",
       "             short_description  max_items                            price  \\\n",
       "0       Role playing game NFTs       4999                            0.115   \n",
       "1              Cat themed NFTs      10000                              TBA   \n",
       "2           Aliens themed NFTs       6969                           0.0169   \n",
       "3  Angel and devil themed NFTs      10000  0.04 Presales/0.05 Public Sales   \n",
       "4      Angry bears themed NFTs       4444                              NaN   \n",
       "\n",
       "                                   price_text currency  \\\n",
       "0                                         NaN      ETH   \n",
       "1                                         TBA      ETH   \n",
       "2                                         NaN      ETH   \n",
       "3  Presale: 0.04 ETH\\r\\nPublic Sale: 0.05 ETH      ETH   \n",
       "4                  0.7 SOL \\r\\n0.02285231 ETH      ETH   \n",
       "\n",
       "                  sale_date             pre_sale_date  \\\n",
       "0  2022-02-25T15:00:00.000Z                       NaN   \n",
       "1           To be Announced                       NaN   \n",
       "2  2022-02-27T20:00:00.000Z                       NaN   \n",
       "3  2022-02-26T22:00:00.000Z  2022-02-25T22:00:00.000Z   \n",
       "4  2022-03-05T21:00:00.000Z                       NaN   \n",
       "\n",
       "                        website                          discord_link  \\\n",
       "0           https://55unity.com            https://discord.gg/55unity   \n",
       "1             www.ailoverse.com  https://discord.com/invite/ailoverse   \n",
       "2    https://alienscumfleet.io/         https://discord.gg/RDcq8EN5Wv   \n",
       "3  https://angelsdevilsnft.com/            discord.gg/angelsdevilsnft   \n",
       "4             angrybearclub.com         https://discord.gg/xVhcpj6csg   \n",
       "\n",
       "        twitter_id               listed_date  \n",
       "0          55unity  2022-02-21T00:00:00.000Z  \n",
       "1        ailoverse  2022-02-15T00:00:00.000Z  \n",
       "2   alienscumfleet  2022-02-18T00:00:00.000Z  \n",
       "3  AngelsDevilsNFT  2022-02-22T00:00:00.000Z  \n",
       "4     AngryBearNFT  2022-02-22T00:00:00.000Z  "
      ]
     },
     "execution_count": 4,
     "metadata": {},
     "output_type": "execute_result"
    }
   ],
   "source": [
    "nfts.head()"
   ]
  },
  {
   "cell_type": "code",
   "execution_count": 25,
   "metadata": {},
   "outputs": [],
   "source": [
    "def plot_max_items(df):\n",
    "    plt.figure(figsize=(10, 5))\n",
    "    sns.set(style=\"darkgrid\")\n",
    "    plt.xticks(rotation=90)\n",
    "    plt.title(\"Top NFTs by Avaialable Max Items\")\n",
    "\n",
    "    sns.barplot('project', 'max_items', data=df.sort_values(by='max_items', ascending=False)[:10], )\n",
    "\n",
    "    plt.show()"
   ]
  },
  {
   "cell_type": "code",
   "execution_count": 26,
   "metadata": {},
   "outputs": [
    {
     "data": {
      "image/png": "[encoded data removed]",
      "text/plain": [
       "<Figure size 720x360 with 1 Axes>"
      ]
     },
     "metadata": {},
     "output_type": "display_data"
    }
   ],
   "source": [
    "plot_max_items(nfts)"
   ]
  },
  {
   "cell_type": "code",
   "execution_count": null,
   "metadata": {},
   "outputs": [],
   "source": []
  }
 ],
 "metadata": {
  "kernelspec": {
   "display_name": "Python 3",
   "language": "python",
   "name": "python3"
  },
  "language_info": {
   "codemirror_mode": {
    "name": "ipython",
    "version": 3
   },
   "file_extension": ".py",
   "mimetype": "text/x-python",
   "name": "python",
   "nbconvert_exporter": "python",
   "pygments_lexer": "ipython3",
   "version": "3.7.3"
  }
 },
 "nbformat": 4,
 "nbformat_minor": 4
}
