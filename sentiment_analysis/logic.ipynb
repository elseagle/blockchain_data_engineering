{
 "cells": [
  {
   "cell_type": "code",
   "execution_count": 1,
   "metadata": {},
   "outputs": [],
   "source": [
    "import tweepy\n",
    "from tweepy import OAuthHandler\n",
    "from textblob import TextBlob as tb\n",
    "import pandas as pd\n",
    "import json\n",
    "from flask import jsonify\n",
    "import datetime\n",
    "import json\n",
    "import configparser\n",
    "import traceback\n",
    "import os\n",
    "from dotenv import load_dotenv"
   ]
  },
  {
   "cell_type": "code",
   "execution_count": 2,
   "metadata": {},
   "outputs": [
    {
     "data": {
      "text/plain": [
       "True"
      ]
     },
     "execution_count": 2,
     "metadata": {},
     "output_type": "execute_result"
    }
   ],
   "source": [
    "load_dotenv()\n"
   ]
  },
  {
   "cell_type": "code",
   "execution_count": null,
   "metadata": {},
   "outputs": [],
   "source": []
  },
  {
   "cell_type": "code",
   "execution_count": null,
   "metadata": {},
   "outputs": [],
   "source": []
  },
  {
   "cell_type": "code",
   "execution_count": 3,
   "metadata": {},
   "outputs": [],
   "source": [
    "def get_config():\n",
    "    try:\n",
    "        CONSUMER_KEY = os.getenv(\"CONSUMER_KEY\")\n",
    "        CONSUMER_SECRET = os.getenv(\"CONSUMER_SECRET\")\n",
    "        ACCESS_TOKEN = os.getenv(\"ACCESS_TOKEN\")\n",
    "        ACCESS_TOKEN_SECRET = os.getenv(\"ACCESS_TOKEN_SECRET\")\n",
    "\n",
    "        auth = tweepy.OAuthHandler(str(CONSUMER_KEY).strip(), str(CONSUMER_SECRET).strip())\n",
    "        auth.set_access_token(str(ACCESS_TOKEN).strip(), str(ACCESS_TOKEN_SECRET).strip())\n",
    "        api = tweepy.API(auth)\n",
    "        print(\"Config successful\")\n",
    "        return api\n",
    "    except Exception as e:\n",
    "        print(traceback.print_exc())\n",
    "        os.exit()\n"
   ]
  },
  {
   "cell_type": "code",
   "execution_count": 4,
   "metadata": {},
   "outputs": [],
   "source": [
    "def fetch_certik_tweets(api, user_handle):\n",
    "    tweet_list = []\n",
    "    tweets = api.user_timeline(screen_name=user_handle, \n",
    "                           # 200 is the maximum allowed count\n",
    "                           count=200,\n",
    "                           include_rts = True,\n",
    "                           # Necessary to keep full_text \n",
    "                           # otherwise only the first 140 words are extracted\n",
    "                           tweet_mode = 'extended'\n",
    "                           )\n",
    "    for tweet in tweets:\n",
    "        tweet_list.append(tweet._json[\"full_text\"])\n",
    "    return tweet_list\n",
    "    "
   ]
  },
  {
   "cell_type": "code",
   "execution_count": 5,
   "metadata": {},
   "outputs": [],
   "source": [
    "def filter_by_word(word, tweet_list):\n",
    "    res = [ tweet_ for tweet_ in tweet_list if word.lower() in tweet_.lower()]\n",
    "    return res\n",
    "\n",
    "    "
   ]
  },
  {
   "cell_type": "code",
   "execution_count": 6,
   "metadata": {},
   "outputs": [],
   "source": [
    "def get_sentiment(filtered_tweets):\n",
    "    sentiments = []\n",
    "    for tweet_ in filtered_tweets:\n",
    "        analysis = tb(tweet_)\n",
    "        polarity = analysis.sentiment.polarity\n",
    "        if(polarity < 0):\n",
    "            output = 'Negative'\n",
    "        elif(0<= polarity<=0.2):\n",
    "            output = 'Neutral'\n",
    "        else:\n",
    "            output = 'Positive'\n",
    "\n",
    "        sentiments.append(output)\n",
    "        pos = sentiments.count(\"Positive\")\n",
    "        neg = sentiments.count(\"Negative\")\n",
    "        neu = sentiments.count(\"Neutral\")\n",
    "        total = len(sentiments)\n",
    "        per_pos = round(float(pos/total* 100), 3)\n",
    "        per_neg = round(float(neg/total* 100), 3 )\n",
    "        per_neu = round(float(neu/total* 100), 3)\n",
    "        return { \"data\":{\n",
    "                \"positive\": per_pos,\n",
    "                \"negative\":per_neg, \n",
    "                \"neutral\":per_neu\n",
    "                },\n",
    "                \"status\": \"success\"}"
   ]
  },
  {
   "cell_type": "code",
   "execution_count": 7,
   "metadata": {},
   "outputs": [],
   "source": [
    "def main(filter_word, user_handle):\n",
    "    api = get_config()\n",
    "    all_tweets = fetch_certik_tweets(api, user_handle)\n",
    "    filtered_tweets = filter_by_word(filter_word, all_tweets)\n",
    "    if len(filtered_tweets) == 0:\n",
    "        return { \"data\":{\n",
    "                \"positive\": 0,\n",
    "                \"negative\":0, \n",
    "                \"neutral\":0\n",
    "                },\n",
    "                \"status\": \"failure\",\n",
    "               \"message\": f\"No response found for {filter_word}\"}\n",
    "    res = get_sentiment(filtered_tweets)\n",
    "    return res"
   ]
  },
  {
   "cell_type": "code",
   "execution_count": 8,
   "metadata": {},
   "outputs": [
    {
     "name": "stdout",
     "output_type": "stream",
     "text": [
      "Config successful\n"
     ]
    },
    {
     "data": {
      "text/plain": [
       "{'data': {'positive': 0.0, 'negative': 0.0, 'neutral': 100.0},\n",
       " 'status': 'success'}"
      ]
     },
     "execution_count": 8,
     "metadata": {},
     "output_type": "execute_result"
    }
   ],
   "source": [
    "main(filter_word=\"crypto\", user_handle='certikorg')"
   ]
  },
  {
   "cell_type": "code",
   "execution_count": null,
   "metadata": {},
   "outputs": [],
   "source": [
    "\n",
    "\n",
    "\n"
   ]
  },
  {
   "cell_type": "code",
   "execution_count": null,
   "metadata": {},
   "outputs": [],
   "source": []
  },
  {
   "cell_type": "code",
   "execution_count": null,
   "metadata": {},
   "outputs": [],
   "source": []
  },
  {
   "cell_type": "code",
   "execution_count": null,
   "metadata": {},
   "outputs": [],
   "source": []
  },
  {
   "cell_type": "code",
   "execution_count": null,
   "metadata": {},
   "outputs": [],
   "source": [
    "\n"
   ]
  },
  {
   "cell_type": "code",
   "execution_count": null,
   "metadata": {},
   "outputs": [],
   "source": [
    "\n",
    "            \n"
   ]
  },
  {
   "cell_type": "code",
   "execution_count": null,
   "metadata": {},
   "outputs": [],
   "source": []
  },
  {
   "cell_type": "code",
   "execution_count": null,
   "metadata": {},
   "outputs": [],
   "source": []
  },
  {
   "cell_type": "code",
   "execution_count": null,
   "metadata": {},
   "outputs": [],
   "source": []
  },
  {
   "cell_type": "code",
   "execution_count": null,
   "metadata": {},
   "outputs": [],
   "source": []
  }
 ],
 "metadata": {
  "kernelspec": {
   "display_name": "Python 3",
   "language": "python",
   "name": "python3"
  },
  "language_info": {
   "codemirror_mode": {
    "name": "ipython",
    "version": 3
   },
   "file_extension": ".py",
   "mimetype": "text/x-python",
   "name": "python",
   "nbconvert_exporter": "python",
   "pygments_lexer": "ipython3",
   "version": "3.7.3"
  }
 },
 "nbformat": 4,
 "nbformat_minor": 4
}
